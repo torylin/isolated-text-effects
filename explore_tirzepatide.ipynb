{
 "cells": [
  {
   "cell_type": "code",
   "execution_count": 1,
   "metadata": {},
   "outputs": [],
   "source": [
    "import pandas as pd\n",
    "import os"
   ]
  },
  {
   "cell_type": "code",
   "execution_count": null,
   "metadata": {},
   "outputs": [],
   "source": [
    "WORK_DIR = ''"
   ]
  },
  {
   "cell_type": "code",
   "execution_count": null,
   "metadata": {},
   "outputs": [],
   "source": [
    "df_clean = pd.read_csv(os.path.join(WORK_DIR, 'data/causal_text/tirzepatide/tirzepatide_final_withsamples.csv'))\n",
    "df_clean.drop(['Unnamed: 0', 'end_weight', 'weight_change', 'percentage_weight_change'], axis=1, inplace=True)\n",
    "df_clean.head()"
   ]
  },
  {
   "cell_type": "code",
   "execution_count": 3,
   "metadata": {},
   "outputs": [],
   "source": [
    "df_clean.to_csv(os.path.join(WORK_DIR, 'data/causal_text/tirzepatide/filtered_clean.csv'), index=False)"
   ]
  },
  {
   "cell_type": "code",
   "execution_count": null,
   "metadata": {},
   "outputs": [],
   "source": [
    "df_clean.drop(['post'], axis=1, inplace=True)\n",
    "df_clean.head()"
   ]
  },
  {
   "cell_type": "code",
   "execution_count": 5,
   "metadata": {},
   "outputs": [],
   "source": [
    "df_clean.to_csv(os.path.join(WORK_DIR, 'data/causal_text/tirzepatide/filtered_clean_discrete_vars_only.csv'), index=False)"
   ]
  },
  {
   "cell_type": "code",
   "execution_count": null,
   "metadata": {},
   "outputs": [],
   "source": [
    "df_clean.drug_type.value_counts()"
   ]
  },
  {
   "cell_type": "markdown",
   "metadata": {},
   "source": [
    "# Cleaning up filtered dataset"
   ]
  },
  {
   "cell_type": "code",
   "execution_count": 7,
   "metadata": {},
   "outputs": [],
   "source": [
    "df = pd.read_csv(os.path.join(WORK_DIR, 'data/causal_text/tirzepatide/old/2024-08-01_18-18-02_sample_inclusion_tirzepatide_unknowns_gpt-4-turbo-preview_samples.csv'))\n",
    "df.drop(['Unnamed: 0', 'target_achievetd', 'target_achievable', 'target_achievd', 'target_achieed'], \n",
    "        axis=1, inplace=True)"
   ]
  },
  {
   "cell_type": "code",
   "execution_count": null,
   "metadata": {},
   "outputs": [],
   "source": [
    "df.head()"
   ]
  },
  {
   "cell_type": "code",
   "execution_count": null,
   "metadata": {},
   "outputs": [],
   "source": [
    "df.shape"
   ]
  },
  {
   "cell_type": "code",
   "execution_count": null,
   "metadata": {},
   "outputs": [],
   "source": [
    "df_clean.drop(['end_weight', 'end_HbA1c', 'weight_change', 'percentage_weight_change'], axis=1, inplace=True)\n",
    "df_clean.head()"
   ]
  },
  {
   "cell_type": "code",
   "execution_count": null,
   "metadata": {},
   "outputs": [],
   "source": [
    "df.drop(['end_weight', 'end_HbA1c', 'weight_change', 'percentage_weight_change', 'inclusion_score'], axis=1, inplace=True)\n",
    "df.head()"
   ]
  },
  {
   "cell_type": "code",
   "execution_count": null,
   "metadata": {},
   "outputs": [],
   "source": [
    "df.drug_type.value_counts()"
   ]
  },
  {
   "cell_type": "code",
   "execution_count": null,
   "metadata": {},
   "outputs": [],
   "source": [
    "df.shape"
   ]
  },
  {
   "cell_type": "code",
   "execution_count": null,
   "metadata": {},
   "outputs": [],
   "source": [
    "df.to_csv(os.path.join(WORK_DIR, 'data/causal_text/tirzepatide/filtered_clean.csv', index=False))"
   ]
  },
  {
   "cell_type": "code",
   "execution_count": null,
   "metadata": {},
   "outputs": [],
   "source": [
    "df.drop(['post'], axis=1, inplace=True)\n",
    "df.head()"
   ]
  },
  {
   "cell_type": "code",
   "execution_count": null,
   "metadata": {},
   "outputs": [],
   "source": [
    "df.to_csv(os.path.join(WORK_DIR,'data/causal_text/tirzepatide/filtered_clean_discrete_vars_only.csv', index=False))"
   ]
  },
  {
   "cell_type": "markdown",
   "metadata": {},
   "source": [
    "# Checking unfiltered datasets"
   ]
  },
  {
   "cell_type": "code",
   "execution_count": 8,
   "metadata": {},
   "outputs": [],
   "source": [
    "df_original = pd.read_csv(os.path.join(WORK_DIR, 'natural/data/tirzepatide/filter_posts_tirzepatide_gpt-3.5-turbo_relevance_filtered_posts_relevant.csv'))\n",
    "df_unfiltered = pd.read_csv(os.path.join(WORK_DIR, 'data/causal_text/tirzepatide/old/2024-08-01_01-14-51_sample_tofilter_tirzepatide_filter_ty_gpt-3.5-turbo-0125_samples.csv'))\n",
    "df_unfiltered_2 = pd.read_csv(os.path.join(WORK_DIR, 'natural/data/tirzepatide/sample_tofilter_tirzepatide_filter_ty_gpt-3.5-turbo-0125_samples.csv'))\n",
    "df_intermediate = pd.read_csv(os.path.join(WORK_DIR, 'data/causal_text/tirzepatide/old/2024-08-01_02-31-48_sample_incontext_tirzepatide_knowns_gpt-4-turbo-preview_samples.csv'))"
   ]
  },
  {
   "cell_type": "code",
   "execution_count": null,
   "metadata": {},
   "outputs": [],
   "source": [
    "df_original.head()"
   ]
  },
  {
   "cell_type": "code",
   "execution_count": null,
   "metadata": {},
   "outputs": [],
   "source": [
    "import ast\n",
    "all_outcome_words = []\n",
    "for sublist in df_original['outcome_words']:\n",
    "    sublist = ast.literal_eval(sublist)\n",
    "    all_outcome_words.extend(sublist)\n",
    "all_outcome_words = set(all_outcome_words)\n",
    "\n",
    "all_treatment_words = []\n",
    "for sublist in df_original['treatments']:\n",
    "    sublist = ast.literal_eval(sublist)\n",
    "    all_treatment_words.extend(sublist)\n",
    "all_treatment_words = set(all_treatment_words)\n",
    "print(all_outcome_words)\n",
    "print(all_treatment_words)"
   ]
  },
  {
   "cell_type": "code",
   "execution_count": null,
   "metadata": {},
   "outputs": [],
   "source": [
    "pd.merge(df_clean, df_original[['post', 'treatments', 'outcome_words']], how='left', on='post')"
   ]
  },
  {
   "cell_type": "code",
   "execution_count": null,
   "metadata": {},
   "outputs": [],
   "source": [
    "df_unfiltered_2.drug_type.value_counts()"
   ]
  },
  {
   "cell_type": "code",
   "execution_count": null,
   "metadata": {},
   "outputs": [],
   "source": [
    "df_unfiltered_2.shape"
   ]
  },
  {
   "cell_type": "code",
   "execution_count": null,
   "metadata": {},
   "outputs": [],
   "source": [
    "df_unfiltered.head()"
   ]
  },
  {
   "cell_type": "code",
   "execution_count": null,
   "metadata": {},
   "outputs": [],
   "source": [
    "df_original.treatments"
   ]
  },
  {
   "cell_type": "code",
   "execution_count": null,
   "metadata": {},
   "outputs": [],
   "source": [
    "df_original.columns"
   ]
  },
  {
   "cell_type": "code",
   "execution_count": null,
   "metadata": {},
   "outputs": [],
   "source": [
    "df_original.treatments.value_counts()"
   ]
  },
  {
   "cell_type": "code",
   "execution_count": null,
   "metadata": {},
   "outputs": [],
   "source": [
    "df_unfiltered.drug_type.value_counts()"
   ]
  },
  {
   "cell_type": "code",
   "execution_count": null,
   "metadata": {},
   "outputs": [],
   "source": [
    "df.drug_type.value_counts()"
   ]
  },
  {
   "cell_type": "code",
   "execution_count": null,
   "metadata": {},
   "outputs": [],
   "source": [
    "df_intermediate.drug_type.value_counts()"
   ]
  },
  {
   "cell_type": "code",
   "execution_count": null,
   "metadata": {},
   "outputs": [],
   "source": [
    "df_intermediate[df_intermediate['percentage_weight_change'] != 'Unknown'].drug_type.value_counts()"
   ]
  },
  {
   "cell_type": "code",
   "execution_count": null,
   "metadata": {},
   "outputs": [],
   "source": [
    "df"
   ]
  },
  {
   "cell_type": "code",
   "execution_count": null,
   "metadata": {},
   "outputs": [],
   "source": []
  }
 ],
 "metadata": {
  "kernelspec": {
   "display_name": "dclf",
   "language": "python",
   "name": "python3"
  },
  "language_info": {
   "codemirror_mode": {
    "name": "ipython",
    "version": 3
   },
   "file_extension": ".py",
   "mimetype": "text/x-python",
   "name": "python",
   "nbconvert_exporter": "python",
   "pygments_lexer": "ipython3",
   "version": "3.9.18"
  }
 },
 "nbformat": 4,
 "nbformat_minor": 2
}
