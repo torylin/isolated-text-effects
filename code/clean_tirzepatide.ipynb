{
 "cells": [
  {
   "cell_type": "code",
   "execution_count": 1,
   "metadata": {},
   "outputs": [],
   "source": [
    "import pandas as pd\n",
    "import os"
   ]
  },
  {
   "cell_type": "code",
   "execution_count": null,
   "metadata": {},
   "outputs": [],
   "source": [
    "WORK_DIR=''"
   ]
  },
  {
   "cell_type": "code",
   "execution_count": 2,
   "metadata": {},
   "outputs": [],
   "source": [
    "df = pd.read_csv(os.path.join(WORK_DIR, 'data/causal_text/tirzepatide/filtered_clean.csv'))\n",
    "df_original = pd.read_csv(os.path.join(WORK_DIR, 'natural/data/tirzepatide/filter_posts_tirzepatide_gpt-3.5-turbo_relevance_filtered_posts_relevant.csv'))"
   ]
  },
  {
   "cell_type": "code",
   "execution_count": 3,
   "metadata": {},
   "outputs": [
    {
     "name": "stdout",
     "output_type": "stream",
     "text": [
      "['glucose', 'hb', 'pound', 'kilo', 'weigh', 'kg', 'gain', 'drop', 'lost', 'hemoglobin', 'a1c', 'lb', 'sugar', 'loss']\n",
      "['rybelsu', 'semaglutide', 'tirzepatid', 'ozempec', 'rybelsus', 'semaglutid', 'semaglitude', 'ozempic', 'wegovy', 'ozmepic', 'mounjero', 'mounjao', 'mounjaro', 'wegov', 'wegoby', 'ribelsus', 'mounjoro', 'tirzapetide', 'rybelus', 'ryblesus', 'ozepmic', 'semaglutde', 'munjaro', 'ozempci', 'tirzepatide', 'rybelsis']\n"
     ]
    }
   ],
   "source": [
    "import ast\n",
    "all_outcome_words = []\n",
    "for sublist in df_original['outcome_words']:\n",
    "    sublist = ast.literal_eval(sublist)\n",
    "    all_outcome_words.extend(sublist)\n",
    "all_outcome_words = list(set(all_outcome_words))\n",
    "\n",
    "all_treatment_words = []\n",
    "for sublist in df_original['treatments']:\n",
    "    sublist = ast.literal_eval(sublist)\n",
    "    all_treatment_words.extend(sublist)\n",
    "all_treatment_words = list(set(all_treatment_words))\n",
    "print(all_outcome_words)\n",
    "print(all_treatment_words)"
   ]
  },
  {
   "cell_type": "code",
   "execution_count": 4,
   "metadata": {},
   "outputs": [
    {
     "data": {
      "text/html": [
       "<div>\n",
       "<style scoped>\n",
       "    .dataframe tbody tr th:only-of-type {\n",
       "        vertical-align: middle;\n",
       "    }\n",
       "\n",
       "    .dataframe tbody tr th {\n",
       "        vertical-align: top;\n",
       "    }\n",
       "\n",
       "    .dataframe thead th {\n",
       "        text-align: right;\n",
       "    }\n",
       "</style>\n",
       "<table border=\"1\" class=\"dataframe\">\n",
       "  <thead>\n",
       "    <tr style=\"text-align: right;\">\n",
       "      <th></th>\n",
       "      <th>age</th>\n",
       "      <th>sex</th>\n",
       "      <th>country</th>\n",
       "      <th>bmi</th>\n",
       "      <th>start_HbA1c</th>\n",
       "      <th>start_weight</th>\n",
       "      <th>duration_days</th>\n",
       "      <th>target_achieved</th>\n",
       "      <th>drug_type</th>\n",
       "      <th>post</th>\n",
       "    </tr>\n",
       "  </thead>\n",
       "  <tbody>\n",
       "    <tr>\n",
       "      <th>0</th>\n",
       "      <td>45.0</td>\n",
       "      <td>1.0</td>\n",
       "      <td>0.0</td>\n",
       "      <td>28.5</td>\n",
       "      <td>7.5</td>\n",
       "      <td>190.0</td>\n",
       "      <td>21.0</td>\n",
       "      <td>1</td>\n",
       "      <td>1</td>\n",
       "      <td>\\r\\n\\r\\n## Subreddit \\r\\n&gt; This comment was fo...</td>\n",
       "    </tr>\n",
       "    <tr>\n",
       "      <th>1</th>\n",
       "      <td>42.0</td>\n",
       "      <td>1.0</td>\n",
       "      <td>0.0</td>\n",
       "      <td>28.5</td>\n",
       "      <td>7.8</td>\n",
       "      <td>220.0</td>\n",
       "      <td>7.0</td>\n",
       "      <td>0</td>\n",
       "      <td>1</td>\n",
       "      <td>\\r\\n\\r\\n## Subreddit \\r\\n&gt; This comment was fo...</td>\n",
       "    </tr>\n",
       "    <tr>\n",
       "      <th>2</th>\n",
       "      <td>46.0</td>\n",
       "      <td>1.0</td>\n",
       "      <td>0.0</td>\n",
       "      <td>28.5</td>\n",
       "      <td>7.2</td>\n",
       "      <td>200.0</td>\n",
       "      <td>42.0</td>\n",
       "      <td>1</td>\n",
       "      <td>1</td>\n",
       "      <td>\\r\\n\\r\\n## Subreddit \\r\\n&gt; This comment was fo...</td>\n",
       "    </tr>\n",
       "    <tr>\n",
       "      <th>3</th>\n",
       "      <td>45.0</td>\n",
       "      <td>1.0</td>\n",
       "      <td>0.0</td>\n",
       "      <td>27.5</td>\n",
       "      <td>7.8</td>\n",
       "      <td>200.0</td>\n",
       "      <td>56.0</td>\n",
       "      <td>1</td>\n",
       "      <td>1</td>\n",
       "      <td>\\r\\n\\r\\n## Subreddit \\r\\n&gt; This comment was fo...</td>\n",
       "    </tr>\n",
       "    <tr>\n",
       "      <th>4</th>\n",
       "      <td>45.0</td>\n",
       "      <td>1.0</td>\n",
       "      <td>0.0</td>\n",
       "      <td>27.5</td>\n",
       "      <td>7.2</td>\n",
       "      <td>200.0</td>\n",
       "      <td>30.0</td>\n",
       "      <td>1</td>\n",
       "      <td>1</td>\n",
       "      <td>\\r\\n\\r\\n## Subreddit \\r\\n&gt; This comment was fo...</td>\n",
       "    </tr>\n",
       "  </tbody>\n",
       "</table>\n",
       "</div>"
      ],
      "text/plain": [
       "    age  sex  country   bmi  start_HbA1c  start_weight  duration_days  \\\n",
       "0  45.0  1.0      0.0  28.5          7.5         190.0           21.0   \n",
       "1  42.0  1.0      0.0  28.5          7.8         220.0            7.0   \n",
       "2  46.0  1.0      0.0  28.5          7.2         200.0           42.0   \n",
       "3  45.0  1.0      0.0  27.5          7.8         200.0           56.0   \n",
       "4  45.0  1.0      0.0  27.5          7.2         200.0           30.0   \n",
       "\n",
       "   target_achieved  drug_type  \\\n",
       "0                1          1   \n",
       "1                0          1   \n",
       "2                1          1   \n",
       "3                1          1   \n",
       "4                1          1   \n",
       "\n",
       "                                                post  \n",
       "0  \\r\\n\\r\\n## Subreddit \\r\\n> This comment was fo...  \n",
       "1  \\r\\n\\r\\n## Subreddit \\r\\n> This comment was fo...  \n",
       "2  \\r\\n\\r\\n## Subreddit \\r\\n> This comment was fo...  \n",
       "3  \\r\\n\\r\\n## Subreddit \\r\\n> This comment was fo...  \n",
       "4  \\r\\n\\r\\n## Subreddit \\r\\n> This comment was fo...  "
      ]
     },
     "execution_count": 4,
     "metadata": {},
     "output_type": "execute_result"
    }
   ],
   "source": [
    "df.head()"
   ]
  },
  {
   "cell_type": "code",
   "execution_count": 5,
   "metadata": {},
   "outputs": [],
   "source": [
    "df['post'] = df['post'].str.strip()"
   ]
  },
  {
   "cell_type": "code",
   "execution_count": 6,
   "metadata": {},
   "outputs": [],
   "source": [
    "import re\n",
    "\n",
    "all_mask_words = all_treatment_words + all_outcome_words\n",
    "# Escape special characters and create regex pattern for words\n",
    "word_pattern = r'\\b(?:' + '|'.join(map(re.escape, all_mask_words)) + r')\\b'\n",
    "\n",
    "# Create a regex pattern to match numbers including those adjacent to letters\n",
    "number_pattern = r'\\d+'\n",
    "\n",
    "# Combine both patterns (words and numbers)\n",
    "combined_pattern = f'({word_pattern})|({number_pattern})'\n",
    "\n",
    "# Replace all occurrences with [MASK]\n",
    "df['post_masked'] = df['post'].str.replace(combined_pattern, '[MASK]', regex=True, flags=re.IGNORECASE)"
   ]
  },
  {
   "cell_type": "code",
   "execution_count": 7,
   "metadata": {},
   "outputs": [
    {
     "data": {
      "text/plain": [
       "array(['## Subreddit \\r\\n> This comment was found on the subreddit r/[MASK].\\r\\n\\r\\n## Title \\r\\n> This comment was in response to a post titled: r/[MASK] Lounge\\r\\n\\r\\n## Date Created \\r\\n> This comment was created on November [MASK], [MASK].\\r\\n\\r\\n## Comment \\r\\n> I have [MASK] [MASK] lbs now and just took my [MASK]rd shot this AM. I am blown away.\\r\\n\\r\\n## Output \\r\\n>',\n",
       "       '## Subreddit \\r\\n> This comment was found on the subreddit r/[MASK].\\r\\n\\r\\n## Title \\r\\n> This comment was in response to a post titled: r/[MASK] Lounge\\r\\n\\r\\n## Date Created \\r\\n> This comment was created on November [MASK], [MASK].\\r\\n\\r\\n## Comment \\r\\n> First week on MJ down [MASK].[MASK] lbs! Is that normal?? I feel like it’s crazy compared to others I know it will slow down but jeez\\r\\n\\r\\n## Output \\r\\n>',\n",
       "       '## Subreddit \\r\\n> This comment was found on the subreddit r/[MASK].\\r\\n\\r\\n## Title \\r\\n> This comment was in response to a post titled: r/[MASK] Lounge\\r\\n\\r\\n## Date Created \\r\\n> This comment was created on November [MASK], [MASK].\\r\\n\\r\\n## Comment \\r\\n> I didn’t notice much of a change till I started [MASK] mg-the first month I was unsure I wanted to stay on it, but when I started [MASK], it was BAM, this stuff is a miracle! 😂 I’m taking my [MASK]th dose of [MASK] mg tomorrow morning-it’s still working pretty good-I’ve [MASK] [MASK] lbs this last month\\r\\n\\r\\n## Output \\r\\n>',\n",
       "       ...,\n",
       "       '## Subreddit \\r\\n> This comment was found on the subreddit r/PlusSize.\\r\\n\\r\\n## Title \\r\\n> This comment was in response to a post titled: (Intentional Weight [MASK]) Wednesday\\r\\n\\r\\n## Date Created \\r\\n> This comment was created on October [MASK], [MASK].\\r\\n\\r\\n## Comment \\r\\n> Anyone here taking a weight [MASK] medication called [MASK]? \\r\\n\\r\\nI was [MASK]lbs last year and now I hover [MASK]-[MASK]lbs depending on water weight. The thing is I love myself but I want to breath again and not have painful joints. This drug has helped me with [MASK]lbs so far since late August. I\\'m just struggling with how long it\\'s taking and the fear of failing. Overall, I don\\'t ever want to be skinny, just a healthier curvier version of myself. Never in a million years would I see myself in the [MASK]\\'s. GW is [MASK]-[MASK]lbs at [MASK]\\'[MASK]\" :) \\r\\n\\r\\nno shame to those who want to be in the [MASK]\\'s though!\\r\\n\\r\\n## Output \\r\\n>',\n",
       "       \"## Subreddit \\r\\n> This comment was found on the subreddit r/PlusSize.\\r\\n\\r\\n## Title \\r\\n> This comment was in response to a post titled: (Intentional Weight [MASK]) Wednesday\\r\\n\\r\\n## Date Created \\r\\n> This comment was created on October [MASK], [MASK].\\r\\n\\r\\n## Comment \\r\\n> I'm on [MASK], a similar med.  I'm a T[MASK] diabetic though, so it's to treat that as well as weight [MASK].  I've had no side effects, and have [MASK] [MASK] lbs since I went on it at the beginning of July.  I also do keto (I [MASK] [MASK] lbs on keto before I started [MASK]).\\r\\n\\r\\n## Output \\r\\n>\",\n",
       "       '## Subreddit \\r\\n> This comment was found on the subreddit r/PlusSize.\\r\\n\\r\\n## Title \\r\\n> This comment was in response to a post titled: (Intentional Weight [MASK]) Wednesday\\r\\n\\r\\n## Date Created \\r\\n> This comment was created on October [MASK], [MASK].\\r\\n\\r\\n## Comment \\r\\n> wow congrats! thats very good! I [MASK] about [MASK]lbs on keto then started [MASK] and im at [MASK]lbs [MASK]! Keep at it &lt;[MASK]\\r\\n\\r\\n## Output \\r\\n>'],\n",
       "      dtype=object)"
      ]
     },
     "execution_count": 7,
     "metadata": {},
     "output_type": "execute_result"
    }
   ],
   "source": [
    "df['post_masked'].values"
   ]
  },
  {
   "cell_type": "code",
   "execution_count": 8,
   "metadata": {},
   "outputs": [],
   "source": [
    "# Step 1: Remove everything before and including \"## Comment \\r\\n>\"\n",
    "df['comment_masked'] = df['post_masked'].str.replace(r'(?s).*?## Comment\\s*\\r\\n>', '', regex=True)\n",
    "\n",
    "# Step 2: Remove \"## Output \\r\\n>\" and everything after it\n",
    "df['comment_masked'] = df['comment_masked'].str.replace(r'## Output\\s*\\r\\n>.*', '', regex=True)\n",
    "\n",
    "# Step 3: Strip leading/trailing whitespace and newline characters\n",
    "df['comment_masked'] = df['comment_masked'].str.strip()"
   ]
  },
  {
   "cell_type": "code",
   "execution_count": 9,
   "metadata": {},
   "outputs": [
    {
     "data": {
      "text/plain": [
       "array(['I have [MASK] [MASK] lbs now and just took my [MASK]rd shot this AM. I am blown away.',\n",
       "       'First week on MJ down [MASK].[MASK] lbs! Is that normal?? I feel like it’s crazy compared to others I know it will slow down but jeez',\n",
       "       'I didn’t notice much of a change till I started [MASK] mg-the first month I was unsure I wanted to stay on it, but when I started [MASK], it was BAM, this stuff is a miracle! 😂 I’m taking my [MASK]th dose of [MASK] mg tomorrow morning-it’s still working pretty good-I’ve [MASK] [MASK] lbs this last month',\n",
       "       ...,\n",
       "       'Anyone here taking a weight [MASK] medication called [MASK]? \\r\\n\\r\\nI was [MASK]lbs last year and now I hover [MASK]-[MASK]lbs depending on water weight. The thing is I love myself but I want to breath again and not have painful joints. This drug has helped me with [MASK]lbs so far since late August. I\\'m just struggling with how long it\\'s taking and the fear of failing. Overall, I don\\'t ever want to be skinny, just a healthier curvier version of myself. Never in a million years would I see myself in the [MASK]\\'s. GW is [MASK]-[MASK]lbs at [MASK]\\'[MASK]\" :) \\r\\n\\r\\nno shame to those who want to be in the [MASK]\\'s though!',\n",
       "       \"I'm on [MASK], a similar med.  I'm a T[MASK] diabetic though, so it's to treat that as well as weight [MASK].  I've had no side effects, and have [MASK] [MASK] lbs since I went on it at the beginning of July.  I also do keto (I [MASK] [MASK] lbs on keto before I started [MASK]).\",\n",
       "       'wow congrats! thats very good! I [MASK] about [MASK]lbs on keto then started [MASK] and im at [MASK]lbs [MASK]! Keep at it &lt;[MASK]'],\n",
       "      dtype=object)"
      ]
     },
     "execution_count": 9,
     "metadata": {},
     "output_type": "execute_result"
    }
   ],
   "source": [
    "df['comment_masked'].values"
   ]
  },
  {
   "cell_type": "code",
   "execution_count": 10,
   "metadata": {},
   "outputs": [],
   "source": [
    "# Step 1: Remove everything before and including \"## Comment \\r\\n>\"\n",
    "df['comment'] = df['post'].str.replace(r'(?s).*?## Comment\\s*\\r\\n>', '', regex=True)\n",
    "\n",
    "# Step 2: Remove \"## Output \\r\\n>\" and everything after it\n",
    "df['comment'] = df['comment'].str.replace(r'## Output\\s*\\r\\n>.*', '', regex=True)\n",
    "\n",
    "# Step 3: Strip leading/trailing whitespace and newline characters\n",
    "df['comment'] = df['comment'].str.strip()"
   ]
  },
  {
   "cell_type": "code",
   "execution_count": 11,
   "metadata": {},
   "outputs": [
    {
     "data": {
      "text/html": [
       "<div>\n",
       "<style scoped>\n",
       "    .dataframe tbody tr th:only-of-type {\n",
       "        vertical-align: middle;\n",
       "    }\n",
       "\n",
       "    .dataframe tbody tr th {\n",
       "        vertical-align: top;\n",
       "    }\n",
       "\n",
       "    .dataframe thead th {\n",
       "        text-align: right;\n",
       "    }\n",
       "</style>\n",
       "<table border=\"1\" class=\"dataframe\">\n",
       "  <thead>\n",
       "    <tr style=\"text-align: right;\">\n",
       "      <th></th>\n",
       "      <th>age</th>\n",
       "      <th>sex</th>\n",
       "      <th>country</th>\n",
       "      <th>bmi</th>\n",
       "      <th>start_HbA1c</th>\n",
       "      <th>start_weight</th>\n",
       "      <th>duration_days</th>\n",
       "      <th>target_achieved</th>\n",
       "      <th>drug_type</th>\n",
       "      <th>post</th>\n",
       "      <th>post_masked</th>\n",
       "      <th>comment_masked</th>\n",
       "      <th>comment</th>\n",
       "    </tr>\n",
       "  </thead>\n",
       "  <tbody>\n",
       "    <tr>\n",
       "      <th>0</th>\n",
       "      <td>45.0</td>\n",
       "      <td>1.0</td>\n",
       "      <td>0.0</td>\n",
       "      <td>28.5</td>\n",
       "      <td>7.5</td>\n",
       "      <td>190.0</td>\n",
       "      <td>21.0</td>\n",
       "      <td>1</td>\n",
       "      <td>1</td>\n",
       "      <td>## Subreddit \\r\\n&gt; This comment was found on t...</td>\n",
       "      <td>## Subreddit \\r\\n&gt; This comment was found on t...</td>\n",
       "      <td>I have [MASK] [MASK] lbs now and just took my ...</td>\n",
       "      <td>I have lost 10 lbs now and just took my 3rd sh...</td>\n",
       "    </tr>\n",
       "    <tr>\n",
       "      <th>1</th>\n",
       "      <td>42.0</td>\n",
       "      <td>1.0</td>\n",
       "      <td>0.0</td>\n",
       "      <td>28.5</td>\n",
       "      <td>7.8</td>\n",
       "      <td>220.0</td>\n",
       "      <td>7.0</td>\n",
       "      <td>0</td>\n",
       "      <td>1</td>\n",
       "      <td>## Subreddit \\r\\n&gt; This comment was found on t...</td>\n",
       "      <td>## Subreddit \\r\\n&gt; This comment was found on t...</td>\n",
       "      <td>First week on MJ down [MASK].[MASK] lbs! Is th...</td>\n",
       "      <td>First week on MJ down 7.5 lbs! Is that normal?...</td>\n",
       "    </tr>\n",
       "    <tr>\n",
       "      <th>2</th>\n",
       "      <td>46.0</td>\n",
       "      <td>1.0</td>\n",
       "      <td>0.0</td>\n",
       "      <td>28.5</td>\n",
       "      <td>7.2</td>\n",
       "      <td>200.0</td>\n",
       "      <td>42.0</td>\n",
       "      <td>1</td>\n",
       "      <td>1</td>\n",
       "      <td>## Subreddit \\r\\n&gt; This comment was found on t...</td>\n",
       "      <td>## Subreddit \\r\\n&gt; This comment was found on t...</td>\n",
       "      <td>I didn’t notice much of a change till I starte...</td>\n",
       "      <td>I didn’t notice much of a change till I starte...</td>\n",
       "    </tr>\n",
       "    <tr>\n",
       "      <th>3</th>\n",
       "      <td>45.0</td>\n",
       "      <td>1.0</td>\n",
       "      <td>0.0</td>\n",
       "      <td>27.5</td>\n",
       "      <td>7.8</td>\n",
       "      <td>200.0</td>\n",
       "      <td>56.0</td>\n",
       "      <td>1</td>\n",
       "      <td>1</td>\n",
       "      <td>## Subreddit \\r\\n&gt; This comment was found on t...</td>\n",
       "      <td>## Subreddit \\r\\n&gt; This comment was found on t...</td>\n",
       "      <td>Yes. The same happened to me on [MASK].[MASK] ...</td>\n",
       "      <td>Yes. The same happened to me on 2.5 and I reme...</td>\n",
       "    </tr>\n",
       "    <tr>\n",
       "      <th>4</th>\n",
       "      <td>45.0</td>\n",
       "      <td>1.0</td>\n",
       "      <td>0.0</td>\n",
       "      <td>27.5</td>\n",
       "      <td>7.2</td>\n",
       "      <td>200.0</td>\n",
       "      <td>30.0</td>\n",
       "      <td>1</td>\n",
       "      <td>1</td>\n",
       "      <td>## Subreddit \\r\\n&gt; This comment was found on t...</td>\n",
       "      <td>## Subreddit \\r\\n&gt; This comment was found on t...</td>\n",
       "      <td>I didn’t monitor it but I [MASK] [MASK]lbs tha...</td>\n",
       "      <td>I didn’t monitor it but I lost 10lbs that mont...</td>\n",
       "    </tr>\n",
       "  </tbody>\n",
       "</table>\n",
       "</div>"
      ],
      "text/plain": [
       "    age  sex  country   bmi  start_HbA1c  start_weight  duration_days  \\\n",
       "0  45.0  1.0      0.0  28.5          7.5         190.0           21.0   \n",
       "1  42.0  1.0      0.0  28.5          7.8         220.0            7.0   \n",
       "2  46.0  1.0      0.0  28.5          7.2         200.0           42.0   \n",
       "3  45.0  1.0      0.0  27.5          7.8         200.0           56.0   \n",
       "4  45.0  1.0      0.0  27.5          7.2         200.0           30.0   \n",
       "\n",
       "   target_achieved  drug_type  \\\n",
       "0                1          1   \n",
       "1                0          1   \n",
       "2                1          1   \n",
       "3                1          1   \n",
       "4                1          1   \n",
       "\n",
       "                                                post  \\\n",
       "0  ## Subreddit \\r\\n> This comment was found on t...   \n",
       "1  ## Subreddit \\r\\n> This comment was found on t...   \n",
       "2  ## Subreddit \\r\\n> This comment was found on t...   \n",
       "3  ## Subreddit \\r\\n> This comment was found on t...   \n",
       "4  ## Subreddit \\r\\n> This comment was found on t...   \n",
       "\n",
       "                                         post_masked  \\\n",
       "0  ## Subreddit \\r\\n> This comment was found on t...   \n",
       "1  ## Subreddit \\r\\n> This comment was found on t...   \n",
       "2  ## Subreddit \\r\\n> This comment was found on t...   \n",
       "3  ## Subreddit \\r\\n> This comment was found on t...   \n",
       "4  ## Subreddit \\r\\n> This comment was found on t...   \n",
       "\n",
       "                                      comment_masked  \\\n",
       "0  I have [MASK] [MASK] lbs now and just took my ...   \n",
       "1  First week on MJ down [MASK].[MASK] lbs! Is th...   \n",
       "2  I didn’t notice much of a change till I starte...   \n",
       "3  Yes. The same happened to me on [MASK].[MASK] ...   \n",
       "4  I didn’t monitor it but I [MASK] [MASK]lbs tha...   \n",
       "\n",
       "                                             comment  \n",
       "0  I have lost 10 lbs now and just took my 3rd sh...  \n",
       "1  First week on MJ down 7.5 lbs! Is that normal?...  \n",
       "2  I didn’t notice much of a change till I starte...  \n",
       "3  Yes. The same happened to me on 2.5 and I reme...  \n",
       "4  I didn’t monitor it but I lost 10lbs that mont...  "
      ]
     },
     "execution_count": 11,
     "metadata": {},
     "output_type": "execute_result"
    }
   ],
   "source": [
    "df.head()"
   ]
  },
  {
   "cell_type": "code",
   "execution_count": 12,
   "metadata": {},
   "outputs": [],
   "source": [
    "df.to_csv(os.path.join(WORK_DIR, 'data/causal_text/tirzepatide/filtered_clean_masked.csv'), index=False)"
   ]
  },
  {
   "cell_type": "code",
   "execution_count": null,
   "metadata": {},
   "outputs": [],
   "source": []
  }
 ],
 "metadata": {
  "kernelspec": {
   "display_name": "dclf",
   "language": "python",
   "name": "python3"
  },
  "language_info": {
   "codemirror_mode": {
    "name": "ipython",
    "version": 3
   },
   "file_extension": ".py",
   "mimetype": "text/x-python",
   "name": "python",
   "nbconvert_exporter": "python",
   "pygments_lexer": "ipython3",
   "version": "3.9.18"
  }
 },
 "nbformat": 4,
 "nbformat_minor": 2
}
