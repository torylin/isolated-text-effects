{
 "cells": [
  {
   "cell_type": "code",
   "execution_count": 1,
   "metadata": {},
   "outputs": [],
   "source": [
    "import pandas as pd\n",
    "import numpy as np\n",
    "import matplotlib.pyplot as plt\n",
    "import os"
   ]
  },
  {
   "cell_type": "code",
   "execution_count": null,
   "metadata": {},
   "outputs": [],
   "source": [
    "WORK_DIR=''"
   ]
  },
  {
   "cell_type": "code",
   "execution_count": null,
   "metadata": {},
   "outputs": [],
   "source": [
    "df_experiment = pd.read_csv(os.path.join(WORK_DIR,'data/causal_text/hk/hk_rct/HKRepData_textfull.csv'))\n",
    "df_speeches = pd.read_csv(os.path.join(WORK_DIR, 'data/causal_text/hk/hk_speeches/speeches_w_outcomelr.csv'))"
   ]
  },
  {
   "cell_type": "code",
   "execution_count": 3,
   "metadata": {},
   "outputs": [],
   "source": [
    "cols = ['treatycommit', 'brave', 'evil', 'flag', 'threat', 'economy', 'treatyviolation']"
   ]
  },
  {
   "cell_type": "code",
   "execution_count": null,
   "metadata": {},
   "outputs": [],
   "source": [
    "df_experiment[cols].mean()"
   ]
  },
  {
   "cell_type": "code",
   "execution_count": null,
   "metadata": {},
   "outputs": [],
   "source": [
    "df_speeches[cols].mean()"
   ]
  },
  {
   "cell_type": "code",
   "execution_count": null,
   "metadata": {},
   "outputs": [],
   "source": [
    "x = np.arange(len(cols))  # the label locations\n",
    "width = 0.35  # the width of the bars\n",
    "\n",
    "fig, ax = plt.subplots()\n",
    "bars1 = ax.bar(x - width/2, df_experiment[cols].mean().values, width, label='HK experiment', color='skyblue')\n",
    "bars2 = ax.bar(x + width/2, df_speeches[cols].mean().values, width, label='Congressional speeches', color='lightgreen')\n",
    "\n",
    "ax.set_xticks(x)\n",
    "ax.set_xticklabels(cols)\n",
    "ax.set_title('Proportion of attribute=1')\n",
    "ax.tick_params(axis='x', labelrotation=45)\n",
    "ax.legend()"
   ]
  },
  {
   "cell_type": "code",
   "execution_count": null,
   "metadata": {},
   "outputs": [],
   "source": [
    "fig, axs = plt.subplots(2, 4, figsize=(20, 10), constrained_layout=True)\n",
    "axs = axs.flatten()\n",
    "for i in range(len(cols)):\n",
    "    treatment = cols[i]\n",
    "# treatment = 'treatycommit'\n",
    "\n",
    "    ax = axs[i]\n",
    "\n",
    "    df1 = df_speeches[df_speeches[treatment] == 1]\n",
    "    df0 = df_speeches[df_speeches[treatment] == 0]\n",
    "\n",
    "    cond_cols = np.array(cols)\n",
    "    cond_cols = cond_cols[cond_cols != treatment]\n",
    "    x = np.arange(len(cond_cols))\n",
    "\n",
    "    bars1 = ax.bar(x - width/2, df1[cond_cols].mean().values, width, label='{}=1'.format(treatment), color='skyblue')\n",
    "    bars2 = ax.bar(x + width/2, df0[cond_cols].mean().values, width, label='{}=0'.format(treatment), color='lightgreen')\n",
    "\n",
    "    ax.set_xticks(x)\n",
    "    ax.set_xticklabels(cond_cols)\n",
    "    ax.set_title('Proportion of attribute=1')\n",
    "    ax.tick_params(axis='x', labelrotation=45)\n",
    "    ax.legend()\n",
    "\n",
    "axs[7].axis('off')\n",
    "plt.show()"
   ]
  },
  {
   "cell_type": "code",
   "execution_count": null,
   "metadata": {},
   "outputs": [],
   "source": []
  }
 ],
 "metadata": {
  "kernelspec": {
   "display_name": "dclf",
   "language": "python",
   "name": "python3"
  },
  "language_info": {
   "codemirror_mode": {
    "name": "ipython",
    "version": 3
   },
   "file_extension": ".py",
   "mimetype": "text/x-python",
   "name": "python",
   "nbconvert_exporter": "python",
   "pygments_lexer": "ipython3",
   "version": "3.9.18"
  }
 },
 "nbformat": 4,
 "nbformat_minor": 2
}
