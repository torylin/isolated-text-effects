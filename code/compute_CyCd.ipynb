{
 "cells": [
  {
   "cell_type": "code",
   "execution_count": 81,
   "metadata": {},
   "outputs": [],
   "source": [
    "import pandas as pd\n",
    "import numpy as np"
   ]
  },
  {
   "cell_type": "code",
   "execution_count": 82,
   "metadata": {},
   "outputs": [],
   "source": [
    "feats = ['attractive', 'body', 'healing', 'eating', 'movement', 'health',\n",
    "         'exercise', 'cooking', 'positive_emotion', 'science', 'ugliness']\n",
    "text_cols = ['comment_masked', 'post', 'post_masked']\n",
    "y = np.load('./preds/tirzepatide/text_covs/norm_none/target_achieved_true.npy')\n",
    "g_pred = np.load('./preds/tirzepatide/text_covs/norm_none/target_achieved_ggbmcomment-sentecon_empath-all-mpnet-base-v2__type1_no_ood_.npy')\n",
    "alpha_pred = np.load('./preds/tirzepatide/text_covs/norm_none/drug_type_clf_gbmcomment-sentecon_empath-all-mpnet-base-v2_type1_no_ood_.npy')"
   ]
  },
  {
   "cell_type": "code",
   "execution_count": 83,
   "metadata": {},
   "outputs": [
    {
     "name": "stdout",
     "output_type": "stream",
     "text": [
      "attractive: (0.176, -0.100)\n",
      "body: (0.188, -0.301)\n",
      "healing: (0.194, 0.057)\n",
      "eating: (0.186, -0.235)\n",
      "movement: (0.184, 0.265)\n",
      "health: (0.170, -0.186)\n",
      "exercise: (0.187, 0.078)\n",
      "cooking: (0.184, -0.200)\n",
      "positive_emotion: (0.175, -0.227)\n",
      "science: (0.191, 0.164)\n",
      "ugliness: (0.191, -0.343)\n"
     ]
    }
   ],
   "source": [
    "for feat in feats:\n",
    "    gs_pred = np.load('./preds/tirzepatide/text_covs/norm_none/target_achieved_ggbm_comment-sentecon_empath-all-mpnet-base-v2_drop{}_type1_no_ood_.npy'.format(feat))\n",
    "    alphas_pred = np.load('./preds/tirzepatide/text_covs/norm_none/drug_type_clfgbm_comment-sentecon_empath-all-mpnet-base-v2_drop{}_type1_no_ood_.npy'.format(feat))\n",
    "\n",
    "    Cy = np.sqrt(np.mean((g_pred - gs_pred)**2)/np.mean((y - gs_pred)**2))\n",
    "    if np.mean(alpha_pred**2) - np.mean(alphas_pred**2) < 0:\n",
    "        Cd = -np.sqrt((np.mean(alphas_pred**2) - np.mean(alpha_pred**2))/np.mean(alphas_pred**2))\n",
    "    else:\n",
    "        Cd = np.sqrt((np.mean(alpha_pred**2) - np.mean(alphas_pred**2))/np.mean(alphas_pred**2))\n",
    "    print('{}: ({:.3f}, {:.3f})'.format(feat, Cy, Cd))"
   ]
  },
  {
   "cell_type": "code",
   "execution_count": 84,
   "metadata": {},
   "outputs": [
    {
     "name": "stdout",
     "output_type": "stream",
     "text": [
      "comment vs. comment_masked: (0.482, 0.203)\n",
      "comment vs. post: (0.477, 0.252)\n",
      "comment vs. post_masked: (0.519, 0.070)\n"
     ]
    }
   ],
   "source": [
    "for text_col in text_cols:\n",
    "    gs_pred = np.load('./preds/tirzepatide/text_covs/norm_none/target_achieved_ggbm{}-sentecon_empath-all-mpnet-base-v2__type1_no_ood_.npy'.format(text_col))\n",
    "    alphas_pred = np.load('./preds/tirzepatide/text_covs/norm_none/drug_type_clf_gbm{}-sentecon_empath-all-mpnet-base-v2_type1_no_ood_.npy'.format(text_col))\n",
    "\n",
    "\n",
    "    Cy = np.sqrt(np.mean((g_pred - gs_pred)**2)/np.mean((y - gs_pred)**2))\n",
    "    if np.mean(alpha_pred**2) - np.mean(alphas_pred**2) < 0:\n",
    "        Cd = -np.sqrt((np.mean(alphas_pred**2) - np.mean(alpha_pred**2))/np.mean(alphas_pred**2))\n",
    "    else:\n",
    "        Cd = np.sqrt((np.mean(alpha_pred**2) - np.mean(alphas_pred**2))/np.mean(alphas_pred**2))\n",
    "    print('comment vs. {}: ({:.3f}, {:.3f})'.format(text_col, Cy, Cd))"
   ]
  },
  {
   "cell_type": "code",
   "execution_count": 85,
   "metadata": {},
   "outputs": [
    {
     "name": "stdout",
     "output_type": "stream",
     "text": [
      "comment vs. discrete_covs: (0.752, 0.227)\n"
     ]
    }
   ],
   "source": [
    "gs_pred = np.load('./preds/tirzepatide/text_covs/norm_none/target_achieved_ggbmdiscretecovs__type1_no_ood_.npy')\n",
    "alphas_pred = np.load('./preds/tirzepatide/text_covs/norm_none/drug_type_clf_gbmdiscretecovs_type1_no_ood_.npy')\n",
    "\n",
    "Cy = np.sqrt(np.mean((g_pred - gs_pred)**2)/np.mean((y - gs_pred)**2))\n",
    "if np.mean(alpha_pred**2) - np.mean(alphas_pred**2) < 0:\n",
    "    Cd = -np.sqrt((np.mean(alphas_pred**2) - np.mean(alpha_pred**2))/np.mean(alphas_pred**2))\n",
    "else:\n",
    "    Cd = np.sqrt((np.mean(alpha_pred**2) - np.mean(alphas_pred**2))/np.mean(alphas_pred**2))\n",
    "print('comment vs. discrete_covs: ({:.3f}, {:.3f})'.format(Cy, Cd))"
   ]
  }
 ],
 "metadata": {
  "kernelspec": {
   "display_name": "dclf",
   "language": "python",
   "name": "python3"
  },
  "language_info": {
   "codemirror_mode": {
    "name": "ipython",
    "version": 3
   },
   "file_extension": ".py",
   "mimetype": "text/x-python",
   "name": "python",
   "nbconvert_exporter": "python",
   "pygments_lexer": "ipython3",
   "version": "3.9.18"
  }
 },
 "nbformat": 4,
 "nbformat_minor": 2
}
