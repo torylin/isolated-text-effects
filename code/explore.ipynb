{
 "cells": [
  {
   "cell_type": "markdown",
   "metadata": {},
   "source": []
  },
  {
   "cell_type": "code",
   "execution_count": 152,
   "metadata": {},
   "outputs": [],
   "source": [
    "import pandas as pd\n",
    "import os\n",
    "from utils import get_unnoised_labels\n",
    "from sklearn.linear_model import LogisticRegressionCV, RidgeCV\n",
    "from sklearn.model_selection import train_test_split"
   ]
  },
  {
   "cell_type": "code",
   "execution_count": 153,
   "metadata": {},
   "outputs": [],
   "source": [
    "data_dir = ''\n",
    "csv_path = 'pr_sampled_label_synthetic_numerical_coef_direct1.00.0.csv'\n",
    "true_effects = pd.read_csv(os.path.join(data_dir, 'label_synthetic_direct_feature_coefs.csv'))"
   ]
  },
  {
   "cell_type": "code",
   "execution_count": 154,
   "metadata": {},
   "outputs": [],
   "source": [
    "df = pd.read_csv(os.path.join(data_dir, csv_path))\n",
    "df_nuisance, df = train_test_split(df, test_size=0.8, shuffle=True, random_state=240522)\n",
    "df_ood, df = train_test_split(df, test_size=0.75, shuffle=True, random_state=240522)"
   ]
  },
  {
   "cell_type": "code",
   "execution_count": null,
   "metadata": {},
   "outputs": [],
   "source": [
    "print(df.shape)\n",
    "print(df_nuisance.shape)\n",
    "print(df_ood.shape)"
   ]
  },
  {
   "cell_type": "code",
   "execution_count": null,
   "metadata": {},
   "outputs": [],
   "source": [
    "df.head()"
   ]
  },
  {
   "cell_type": "code",
   "execution_count": null,
   "metadata": {},
   "outputs": [],
   "source": [
    "true_effects"
   ]
  },
  {
   "cell_type": "code",
   "execution_count": null,
   "metadata": {},
   "outputs": [],
   "source": []
  },
  {
   "cell_type": "code",
   "execution_count": 158,
   "metadata": {},
   "outputs": [],
   "source": [
    "a_name = true_effects.feature[0]\n",
    "a_true = true_effects.coef[0]\n",
    "X_nuisance = df_nuisance[true_effects.feature]\n",
    "A_c_nuisance = X_nuisance.drop(a_name, axis=1)\n",
    "a_nuisance = df_nuisance[a_name]\n",
    "y_nuisance = df_nuisance['label_synthetic']\n",
    "\n",
    "X = df[true_effects.feature]\n",
    "A_c = X.drop(a_name, axis=1)\n",
    "X1 = X.copy()\n",
    "X0 = X.copy()\n",
    "X1[a_name] = 1\n",
    "X0[a_name] = 0\n",
    "a = df[a_name]\n",
    "y = df['label_synthetic']\n",
    "\n",
    "X_ood = df_ood[true_effects.feature]\n",
    "A_c_ood = X_ood.drop(a_name, axis=1)\n",
    "X1_ood = X_ood.copy()\n",
    "X0_ood = X_ood.copy()\n",
    "X1_ood[a_name] = 1\n",
    "X0_ood[a_name] = 0\n",
    "a_ood = df_ood[a_name]\n",
    "y_ood = df_ood['label_synthetic']"
   ]
  },
  {
   "cell_type": "code",
   "execution_count": null,
   "metadata": {},
   "outputs": [],
   "source": [
    "A_c_nuisance"
   ]
  },
  {
   "cell_type": "markdown",
   "metadata": {},
   "source": [
    "(1) Let $P^*(a^\\mathsf{c}(X))=P(a^\\mathsf{c}(X)|a(X)=1)$:"
   ]
  },
  {
   "cell_type": "code",
   "execution_count": 160,
   "metadata": {},
   "outputs": [],
   "source": [
    "clf = LogisticRegressionCV(cv=5)\n",
    "clf.fit(A_c_nuisance, a_nuisance)\n",
    "\n",
    "prob_a_cond = clf.predict_proba(A_c)\n",
    "prob_a_marg = (df[a_name]==1).mean()\n",
    "\n",
    "prob_a_cond_ood = clf.predict_proba(A_c_ood)\n",
    "prob_a_marg_ood = (df_ood[a_name]==1).mean()"
   ]
  },
  {
   "cell_type": "code",
   "execution_count": 161,
   "metadata": {},
   "outputs": [],
   "source": [
    "g = RidgeCV(cv=5)\n",
    "g.fit(X_nuisance, y_nuisance)\n",
    "pred_y_ood_1 = g.predict(X1_ood)\n",
    "pred_y_ood_0 = g.predict(X0_ood)\n",
    "pred_y_1 = g.predict(X1)\n",
    "pred_y_0 = g.predict(X0)"
   ]
  },
  {
   "cell_type": "code",
   "execution_count": 162,
   "metadata": {},
   "outputs": [],
   "source": [
    "# denominator to scale by P(a=1)?\n",
    "mu1_ipw = ((df[a_name]==1)*df['label_synthetic']).sum()/(df[a_name]==1).sum() "
   ]
  },
  {
   "cell_type": "code",
   "execution_count": 163,
   "metadata": {},
   "outputs": [],
   "source": [
    "ipw_0_weight = prob_a_cond[:,1]*(1-prob_a_marg)/(prob_a_cond[:,0]*prob_a_marg)\n",
    "# denominator to scale by P(a=0)?\n",
    "mu0_ipw = ((df[a_name]==0)*ipw_0_weight*df['label_synthetic']).sum()/(df[a_name]==0).sum() "
   ]
  },
  {
   "cell_type": "code",
   "execution_count": 164,
   "metadata": {},
   "outputs": [],
   "source": [
    "ate_ipw = mu1_ipw - mu0_ipw"
   ]
  },
  {
   "cell_type": "code",
   "execution_count": 166,
   "metadata": {},
   "outputs": [],
   "source": [
    "mu1_dr1 = ((df[a_name]==1)*(df['label_synthetic'] - pred_y_1)).sum()/(df[a_name]==1).sum() + pred_y_ood_1.mean()"
   ]
  },
  {
   "cell_type": "code",
   "execution_count": 167,
   "metadata": {},
   "outputs": [],
   "source": [
    "ipw_0_weight_ood = prob_a_cond_ood[:,1]*(1-prob_a_marg_ood)/(prob_a_cond_ood[:,0]*prob_a_marg_ood)\n",
    "mu0_dr1 = ((df[a_name]==0)*ipw_0_weight*(df['label_synthetic'] - pred_y_0)).sum()/(df[a_name]==0).sum() + \\\n",
    "    ((df_ood[a_name]==0)*ipw_0_weight_ood*pred_y_ood_0).sum()/(df_ood[a_name]==0).sum()"
   ]
  },
  {
   "cell_type": "code",
   "execution_count": 170,
   "metadata": {},
   "outputs": [],
   "source": [
    "ate_dr1 = mu1_dr1 - mu0_dr1"
   ]
  },
  {
   "cell_type": "code",
   "execution_count": null,
   "metadata": {},
   "outputs": [],
   "source": [
    "print(\"Estimated '{}' ATE (IPW): {:.3f}\".format(a_name, ate_ipw))\n",
    "print(\"Estimated '{}' ATE (DR1): {:.3f}\".format(a_name, ate_dr1))\n",
    "print(\"True '{}' ATE: {:.3f}\".format(a_name, a_true))"
   ]
  },
  {
   "cell_type": "markdown",
   "metadata": {},
   "source": [
    "(2) Let $P^*(a^\\mathsf{c}(X))=P(a^\\mathsf{c}(X))$:"
   ]
  },
  {
   "cell_type": "code",
   "execution_count": null,
   "metadata": {},
   "outputs": [],
   "source": []
  }
 ],
 "metadata": {
  "kernelspec": {
   "display_name": "dclf",
   "language": "python",
   "name": "python3"
  },
  "language_info": {
   "codemirror_mode": {
    "name": "ipython",
    "version": 3
   },
   "file_extension": ".py",
   "mimetype": "text/x-python",
   "name": "python",
   "nbconvert_exporter": "python",
   "pygments_lexer": "ipython3",
   "version": "3.9.12"
  }
 },
 "nbformat": 4,
 "nbformat_minor": 2
}
