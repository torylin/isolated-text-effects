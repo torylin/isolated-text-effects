{
 "cells": [
  {
   "cell_type": "code",
   "execution_count": 13,
   "metadata": {},
   "outputs": [],
   "source": [
    "import pandas as pd\n",
    "import numpy as np\n",
    "import matplotlib.pyplot as plt\n",
    "import os\n",
    "import pdb\n",
    "plt.rcParams.update({'font.size': 18})"
   ]
  },
  {
   "cell_type": "code",
   "execution_count": 14,
   "metadata": {},
   "outputs": [],
   "source": [
    "def plot_df(df, filename_base, z_name):\n",
    "    unique_combinations = df[['text_col', 'lm_library', 'lm_name']].drop_duplicates()\n",
    "    min_Cy = df.Cy.values.min()\n",
    "    max_Cy = df.Cy.values.max()\n",
    "    min_Cd = df.Cd.values.min()\n",
    "    max_Cd = df.Cd.values.max()\n",
    "    # Loop through each unique combination and subset the DataFrame\n",
    "    for _, row in unique_combinations.iterrows():\n",
    "        subset = df[\n",
    "            (df['text_col'] == row['text_col']) &\n",
    "            (df['lm_library'] == row['lm_library']) &\n",
    "            (df['lm_name'] == row['lm_name'])\n",
    "        ]\n",
    "        if not subset.empty:\n",
    "            try:\n",
    "                df_pivot = subset.pivot(index='Cy', columns='Cd', values=z_name)\n",
    "            except:\n",
    "                # print(filename_base)\n",
    "                # print(subset)\n",
    "                print()\n",
    "\n",
    "            # Create X, Y, Z values for contour plot\n",
    "            Cy_grid = df_pivot.index.values  # X values\n",
    "            Cd_grid = df_pivot.columns.values  # Y values\n",
    "            Z = df_pivot.values  # Z values (ovb)\n",
    "\n",
    "            # Create meshgrid for X and Y\n",
    "            Cy_grid, Cd_grid = np.meshgrid(Cy_grid, Cd_grid)\n",
    "\n",
    "            plt.figure(figsize=(8, 6))\n",
    "            contour = plt.contour(Cy_grid, Cd_grid, Z, levels=10, cmap='viridis')\n",
    "            contour_zero = plt.contour(Cy_grid, Cd_grid, Z, levels=[0], colors='red', linewidths=2)\n",
    "            plt.clabel(contour, inline=True, fontsize=14)\n",
    "            plt.clabel(contour_zero, inline=True, fontsize=14)\n",
    "            plt.scatter(0, 0, color='black', marker='^', s=100, zorder=5)  # Add a triangle at (0, 0)\n",
    "            plt.text(0, 0, 'unadjusted', color='black', fontsize=18, ha='left', va='bottom')\n",
    "            plt.xlim(min_Cy - 0.01, max_Cy)\n",
    "            plt.ylim(min_Cd - 0.01, max_Cd)\n",
    "            # plt.colorbar(contour)\n",
    "            plt.xlabel('Cy', fontsize=18)\n",
    "            plt.ylabel('Cd', fontsize=18)\n",
    "            # plt.title('{} ({}-{}-{})'.format(z_name, row['text_col'],\n",
    "            #                                                 row['lm_library'],\n",
    "            #                                                 row['lm_name']))\n",
    "            if (row['text_col'] == 'comment') and (row['lm_library'] == 'sentecon_empath') and ('gbm' in filename_base) and ('type1' in filename_base):\n",
    "                print('extra')\n",
    "                pt_names = ['healing', 'movement', 'exercise', 'science', 'masked']\n",
    "                alignment = ['left', 'left', 'left', 'left', 'right']\n",
    "                pts = [(0.194, 0.057), (0.184, 0.265), (0.187, 0.078), (0.191, 0.164), (0.482, 0.203)]\n",
    "                for i in range(len(pt_names)):\n",
    "                    \n",
    "                    plt.scatter(*pts[i], color='red', marker='^', s=100, zorder=5)  # Add a triangle at (0, 0)\n",
    "                    plt.text(*pts[i], pt_names[i], color='black', fontsize=18, ha=alignment[i], va='bottom')\n",
    "\n",
    "                # plt.scatter(0.752, 0.227, color='red', marker='^', s=100, zorder=5)  # Add a triangle at (0, 0)\n",
    "                # plt.text(0.752, 0.227, 'llm_prompt_features', color='black', fontsize=10, ha='right', va='bottom', zorder=10)\n",
    "                # plt.xlim(min_Cy - 0.01, 0.5)\n",
    "                # plt.ylim(min_Cd - 0.01, 0.5)\n",
    "                # plt.show()\n",
    "            plt.savefig('./plots/tirzepatide/contour/{}_{}-{}-{}_{}.png'.format(\n",
    "                z_name, row['text_col'], row['lm_library'], row['lm_name'], filename_base)\n",
    "            )\n",
    "            plt.close()\n",
    "            # plt.show()"
   ]
  },
  {
   "cell_type": "code",
   "execution_count": 15,
   "metadata": {},
   "outputs": [
    {
     "name": "stdout",
     "output_type": "stream",
     "text": [
      "treatgbm_outgbm_type2_nudr_no_ood_cv5_CyCdgrid\n",
      "treatgbm_outgbm_type3_nudr_no_ood_cv5_CyCdgrid\n",
      "treatmlp_outmlp_type2_nudr_no_ood_trunc0.1_cv5_CyCdgrid\n",
      "treatgbm_outgbm_type3_nudr_no_ood_trunc0.1_cv5_CyCdgrid\n",
      "treatmlp_outmlp_type3_nudr_no_ood_trunc0.1_cv5_CyCdgrid\n",
      "treatgbm_outgbm_type2_nudr_no_ood_trunc0.1_cv5_CyCdgrid\n",
      "treatgbm_outgbm_type1_nudr_no_ood_trunc0.1_cv5_CyCdgrid\n",
      "\n",
      "extra\n",
      "treatgbm_outgbm_type1_nudr_no_ood_cv5_CyCdgrid\n",
      "extra\n",
      "treatmlp_outmlp_type1_nudr_no_ood_trunc0.1_cv5_CyCdgrid\n",
      "type1_nudr_no_ood_cv5_CyCdgrid\n",
      "type1_nudr_no_ood_trunc0.1_cv5_CyCdgrid\n",
      "type3_nudr_no_ood_trunc0.1_cv5_CyCdgrid\n",
      "type2_nudr_no_ood_trunc0.1_cv5_CyCdgrid\n",
      "treatmlp_outmlp_type1_nudr_no_ood_cv5_CyCdgrid\n",
      "treatmlp_outmlp_type2_nudr_no_ood_cv5_CyCdgrid\n",
      "type3_nudr_no_ood_cv5_CyCdgrid\n",
      "treatmlp_outmlp_type3_nudr_no_ood_cv5_CyCdgrid\n",
      "type2_nudr_no_ood_cv5_CyCdgrid\n"
     ]
    }
   ],
   "source": [
    "results_dir = './results/tirzepatide/text_covs/norm_none'\n",
    "for filename in os.listdir(results_dir):\n",
    "    if 'CyCdgrid' in filename:\n",
    "        df = pd.read_csv(os.path.join(results_dir, filename))\n",
    "        filename_base = filename.split('.csv')[0]\n",
    "        # print(filename_base)\n",
    "        filename_base = filename_base.split('all_reps_RV0bound_')[1]\n",
    "        print(filename_base)\n",
    "        plot_df(df, filename_base, 'theta_minus')"
   ]
  },
  {
   "cell_type": "code",
   "execution_count": null,
   "metadata": {},
   "outputs": [],
   "source": []
  },
  {
   "cell_type": "code",
   "execution_count": null,
   "metadata": {},
   "outputs": [],
   "source": []
  }
 ],
 "metadata": {
  "kernelspec": {
   "display_name": "dclf",
   "language": "python",
   "name": "python3"
  },
  "language_info": {
   "codemirror_mode": {
    "name": "ipython",
    "version": 3
   },
   "file_extension": ".py",
   "mimetype": "text/x-python",
   "name": "python",
   "nbconvert_exporter": "python",
   "pygments_lexer": "ipython3",
   "version": "3.9.18"
  }
 },
 "nbformat": 4,
 "nbformat_minor": 2
}
